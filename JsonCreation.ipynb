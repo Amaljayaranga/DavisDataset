{
  "nbformat": 4,
  "nbformat_minor": 0,
  "metadata": {
    "colab": {
      "name": "JsonCreation.ipynb",
      "provenance": [],
      "authorship_tag": "ABX9TyOm1cb6P7pGybY/KOn2DVws",
      "include_colab_link": true
    },
    "kernelspec": {
      "name": "python3",
      "display_name": "Python 3"
    }
  },
  "cells": [
    {
      "cell_type": "markdown",
      "metadata": {
        "id": "view-in-github",
        "colab_type": "text"
      },
      "source": [
        "<a href=\"https://colab.research.google.com/github/Amaljayaranga/DavisDataset/blob/master/JsonCreation.ipynb\" target=\"_parent\"><img src=\"https://colab.research.google.com/assets/colab-badge.svg\" alt=\"Open In Colab\"/></a>"
      ]
    },
    {
      "cell_type": "code",
      "metadata": {
        "id": "i5IY2XakyfjV",
        "colab_type": "code",
        "colab": {
          "base_uri": "https://localhost:8080/",
          "height": 53
        },
        "outputId": "330418d8-1b11-4aa3-d60c-26baa6102dc2"
      },
      "source": [
        "import torch\n",
        "import torchvision\n",
        "from PIL import Image\n",
        "import torchvision.transforms as T\n",
        "import cv2\n",
        "import matplotlib.pyplot as plt\n",
        "import numpy as np\n",
        "import os\n",
        "import json\n",
        "\n",
        "DEVICE = 'cuda'\n",
        "if not torch.cuda.is_available():\n",
        "    DEVICE = 'cpu'\n",
        "\n",
        "model = torchvision.models.detection.fasterrcnn_resnet50_fpn(pretrained=True)\n",
        "model.eval()\n",
        "model = model.to(DEVICE)\n",
        "\n",
        "COCO_INSTANCE_CATEGORY_NAMES = [\n",
        "    '__background__', 'person', 'bicycle', 'car', 'motorcycle', 'airplane', 'bus',\n",
        "    'train', 'truck', 'boat', 'traffic light', 'fire hydrant', 'N/A', 'stop sign',\n",
        "    'parking meter', 'bench', 'bird', 'cat', 'dog', 'horse', 'sheep', 'cow',\n",
        "    'elephant', 'bear', 'zebra', 'giraffe', 'N/A', 'backpack', 'umbrella', 'N/A', 'N/A',\n",
        "    'handbag', 'tie', 'suitcase', 'frisbee', 'skis', 'snowboard', 'sports ball',\n",
        "    'kite', 'baseball bat', 'baseball glove', 'skateboard', 'surfboard', 'tennis racket',\n",
        "    'bottle', 'N/A', 'wine glass', 'cup', 'fork', 'knife', 'spoon', 'bowl',\n",
        "    'banana', 'apple', 'sandwich', 'orange', 'broccoli', 'carrot', 'hot dog', 'pizza',\n",
        "    'donut', 'cake', 'chair', 'couch', 'potted plant', 'bed', 'N/A', 'dining table',\n",
        "    'N/A', 'N/A', 'toilet', 'N/A', 'tv', 'laptop', 'mouse', 'remote', 'keyboard', 'cell phone',\n",
        "    'microwave', 'oven', 'toaster', 'sink', 'refrigerator', 'N/A', 'book',\n",
        "    'clock', 'vase', 'scissors', 'teddy bear', 'hair drier', 'toothbrush'\n",
        "]\n",
        "\n",
        "def get_prediction(img_path, threshold):\n",
        "    img = Image.open(img_path)\n",
        "    transform = T.Compose([T.ToTensor()])\n",
        "    img = transform(img)\n",
        "    pred = model([img])\n",
        "    pred_class = [COCO_INSTANCE_CATEGORY_NAMES[i] for i in list(pred[0]['labels'].numpy())]\n",
        "    pred_boxes = [[(i[0], i[1]), (i[2], i[3])] for i in list(pred[0]['boxes'].detach().numpy())]\n",
        "    pred_score = list(pred[0]['scores'].detach().numpy())\n",
        "    pred_t = [pred_score.index(x) for x in pred_score if x > threshold][-1]\n",
        "    pred_boxes = pred_boxes[:pred_t + 1]\n",
        "    pred_class = pred_class[:pred_t + 1]\n",
        "    return pred_boxes, pred_class\n",
        "\n",
        "def object_detection_api(img_path, threshold=0.5, rect_th=3, text_size=3, text_th=3):\n",
        "  boxes, pred_cls = get_prediction(img_path, threshold)\n",
        "  img = cv2.imread(img_path)\n",
        "  img = cv2.cvtColor(img, cv2.COLOR_BGR2RGB)\n",
        "  for i in range(len(boxes)):\n",
        "    cv2.rectangle(img, boxes[i][0], boxes[i][1],color=(0, 255, 0), thickness=rect_th)\n",
        "    cv2.putText(img,pred_cls[i], boxes[i][0], cv2.FONT_HERSHEY_SIMPLEX, text_size, (0,255,0),thickness=text_th)\n",
        "  plt.figure(figsize=(20,30))\n",
        "  plt.imshow(img)\n",
        "  plt.xticks([])\n",
        "  plt.yticks([])\n",
        "  plt.show()\n",
        "\n",
        "#object_detection_api('./bird.jpg', threshold=0.5)\n",
        "#boxes, pred_cls = get_prediction('./2.jpg', threshold=0.6)\n",
        "#print(pred_cls)\n",
        "#print(boxes)\n",
        "\n",
        "img_data = {}\n",
        "img_data['imgs'] = []\n",
        "path = './bear/'\n",
        "\n",
        "images = os.listdir(path)\n",
        "for image in images:\n",
        "    boxes, pred_cls = get_prediction(path+image, threshold=0.6)\n",
        "    np_boxes = np.array(boxes)\n",
        "    np_classes = np.array(pred_cls)\n",
        "    img_object = []\n",
        "\n",
        "    if np_classes.size == 1:\n",
        "        for class_, box_ in zip(np_classes, np_boxes):\n",
        "            object = {}\n",
        "            object[\"class\"] = class_\n",
        "            object[\"x\"] = int(box_[0][0])\n",
        "            object[\"y\"] = int(box_[0][1])\n",
        "            object[\"width\"] = int(box_[1][0] - box_[0][0])\n",
        "            object[\"height\"] = int(box_[1][1] - box_[0][1])\n",
        "        img_object.append(object)\n",
        "    else:\n",
        "        for class_, box_ in zip(np_classes, np_boxes):\n",
        "            object = {}\n",
        "            object[\"class\"] = class_\n",
        "            for box_idx, box in enumerate(box_):\n",
        "                object[\"x\"] = int(np_boxes[box_idx][0][0])\n",
        "                object[\"y\"] = int(np_boxes[box_idx][0][1])\n",
        "                object[\"width\"] = int(np_boxes[box_idx][1][0] - np_boxes[box_idx][0][0])\n",
        "                object[\"height\"] = int(np_boxes[box_idx][1][1] - np_boxes[box_idx][0][1])\n",
        "            img_object.append(object)\n",
        "\n",
        "    single_image = {}\n",
        "    single_image[\"index\"] = image.split('.')[0]\n",
        "    single_image[\"objects\"] = img_object\n",
        "    img_data['imgs'].append(single_image)\n",
        "\n",
        "print(img_data)\n",
        "with open('datajson.txt', 'w') as outfile:\n",
        "    json.dump(img_data, outfile)\n",
        "\n",
        "\n"
      ],
      "execution_count": 8,
      "outputs": [
        {
          "output_type": "stream",
          "text": [
            "{'imgs': [{'index': '00036', 'objects': [{'class': 'bear', 'x': 104, 'y': 228, 'width': 383, 'height': 235}]}, {'index': '00001', 'objects': [{'class': 'bear', 'x': 84, 'y': 212, 'width': 378, 'height': 214}]}, {'index': '00078', 'objects': [{'class': 'bear', 'x': 80, 'y': 161, 'width': 360, 'height': 222}]}, {'index': '00026', 'objects': [{'class': 'bear', 'x': 106, 'y': 221, 'width': 368, 'height': 213}]}, {'index': '00074', 'objects': [{'class': 'bear', 'x': 84, 'y': 170, 'width': 357, 'height': 221}]}, {'index': '00081', 'objects': [{'class': 'bear', 'x': 74, 'y': 157, 'width': 360, 'height': 242}]}, {'index': '00066', 'objects': [{'class': 'bear', 'x': 99, 'y': 182, 'width': 338, 'height': 222}]}, {'index': '00072', 'objects': [{'class': 'bear', 'x': 94, 'y': 169, 'width': 342, 'height': 223}]}, {'index': '00068', 'objects': [{'class': 'bear', 'x': 103, 'y': 172, 'width': 335, 'height': 226}]}, {'index': '00004', 'objects': [{'class': 'bear', 'x': 86, 'y': 214, 'width': 358, 'height': 216}]}, {'index': '00062', 'objects': [{'class': 'bear', 'x': 101, 'y': 191, 'width': 339, 'height': 223}]}, {'index': '00033', 'objects': [{'class': 'bear', 'x': 103, 'y': 225, 'width': 385, 'height': 237}]}, {'index': '00014', 'objects': [{'class': 'bear', 'x': 103, 'y': 214, 'width': 338, 'height': 218}]}, {'index': '00063', 'objects': [{'class': 'bear', 'x': 101, 'y': 189, 'width': 341, 'height': 221}]}, {'index': '00022', 'objects': [{'class': 'bear', 'x': 106, 'y': 217, 'width': 356, 'height': 208}]}, {'index': '00023', 'objects': [{'class': 'bear', 'x': 108, 'y': 219, 'width': 355, 'height': 211}]}, {'index': '00029', 'objects': [{'class': 'bear', 'x': 106, 'y': 222, 'width': 374, 'height': 230}]}, {'index': '00007', 'objects': [{'class': 'bear', 'x': 94, 'y': 210, 'width': 333, 'height': 214}]}, {'index': '00069', 'objects': [{'class': 'bear', 'x': 97, 'y': 170, 'width': 340, 'height': 225}]}, {'index': '00015', 'objects': [{'class': 'bear', 'x': 100, 'y': 214, 'width': 343, 'height': 214}]}, {'index': '00025', 'objects': [{'class': 'bear', 'x': 107, 'y': 221, 'width': 362, 'height': 210}]}, {'index': '00011', 'objects': [{'class': 'bear', 'x': 101, 'y': 212, 'width': 325, 'height': 209}]}, {'index': '00059', 'objects': [{'class': 'bear', 'x': 106, 'y': 195, 'width': 332, 'height': 230}]}, {'index': '00042', 'objects': [{'class': 'bear', 'x': 107, 'y': 232, 'width': 352, 'height': 236}]}, {'index': '00032', 'objects': [{'class': 'bear', 'x': 105, 'y': 225, 'width': 378, 'height': 238}]}, {'index': '00064', 'objects': [{'class': 'bear', 'x': 103, 'y': 186, 'width': 333, 'height': 222}]}, {'index': '00037', 'objects': [{'class': 'bear', 'x': 106, 'y': 230, 'width': 375, 'height': 234}]}, {'index': '00054', 'objects': [{'class': 'bear', 'x': 99, 'y': 219, 'width': 350, 'height': 228}]}, {'index': '00012', 'objects': [{'class': 'bear', 'x': 102, 'y': 213, 'width': 328, 'height': 210}]}, {'index': '00046', 'objects': [{'class': 'bear', 'x': 107, 'y': 234, 'width': 347, 'height': 233}]}, {'index': '00079', 'objects': [{'class': 'bear', 'x': 77, 'y': 162, 'width': 363, 'height': 224}]}, {'index': '00052', 'objects': [{'class': 'bear', 'x': 104, 'y': 228, 'width': 346, 'height': 229}]}, {'index': '00013', 'objects': [{'class': 'bear', 'x': 99, 'y': 216, 'width': 338, 'height': 213}]}, {'index': '00045', 'objects': [{'class': 'bear', 'x': 106, 'y': 233, 'width': 347, 'height': 234}]}, {'index': '00003', 'objects': [{'class': 'bear', 'x': 85, 'y': 212, 'width': 366, 'height': 213}]}, {'index': '00043', 'objects': [{'class': 'bear', 'x': 103, 'y': 233, 'width': 350, 'height': 234}]}, {'index': '00017', 'objects': [{'class': 'bear', 'x': 103, 'y': 215, 'width': 347, 'height': 211}]}, {'index': '00048', 'objects': [{'class': 'bear', 'x': 106, 'y': 233, 'width': 349, 'height': 232}]}, {'index': '00044', 'objects': [{'class': 'bear', 'x': 106, 'y': 232, 'width': 348, 'height': 234}]}, {'index': '00019', 'objects': [{'class': 'bear', 'x': 106, 'y': 217, 'width': 352, 'height': 215}]}, {'index': '00067', 'objects': [{'class': 'bear', 'x': 100, 'y': 177, 'width': 339, 'height': 223}]}, {'index': '00041', 'objects': [{'class': 'bear', 'x': 105, 'y': 231, 'width': 357, 'height': 236}]}, {'index': '00028', 'objects': [{'class': 'bear', 'x': 105, 'y': 227, 'width': 372, 'height': 217}]}, {'index': '00027', 'objects': [{'class': 'bear', 'x': 108, 'y': 223, 'width': 365, 'height': 213}]}, {'index': '00031', 'objects': [{'class': 'bear', 'x': 110, 'y': 228, 'width': 369, 'height': 223}]}, {'index': '00038', 'objects': [{'class': 'bear', 'x': 106, 'y': 231, 'width': 368, 'height': 232}]}, {'index': '00024', 'objects': [{'class': 'bear', 'x': 108, 'y': 219, 'width': 363, 'height': 211}]}, {'index': '00030', 'objects': [{'class': 'bear', 'x': 108, 'y': 228, 'width': 368, 'height': 224}]}, {'index': '00021', 'objects': [{'class': 'bear', 'x': 106, 'y': 217, 'width': 357, 'height': 208}]}, {'index': '00018', 'objects': [{'class': 'bear', 'x': 105, 'y': 216, 'width': 352, 'height': 211}]}, {'index': '00005', 'objects': [{'class': 'bear', 'x': 85, 'y': 212, 'width': 349, 'height': 211}]}, {'index': '00065', 'objects': [{'class': 'bear', 'x': 104, 'y': 184, 'width': 333, 'height': 222}]}, {'index': '00060', 'objects': [{'class': 'bear', 'x': 101, 'y': 194, 'width': 341, 'height': 225}]}, {'index': '00002', 'objects': [{'class': 'bear', 'x': 85, 'y': 213, 'width': 375, 'height': 213}]}, {'index': '00039', 'objects': [{'class': 'bear', 'x': 108, 'y': 230, 'width': 360, 'height': 230}]}, {'index': '00049', 'objects': [{'class': 'bear', 'x': 107, 'y': 235, 'width': 346, 'height': 230}]}, {'index': '00070', 'objects': [{'class': 'bear', 'x': 94, 'y': 171, 'width': 343, 'height': 223}]}, {'index': '00000', 'objects': [{'class': 'bear', 'x': 94, 'y': 217, 'width': 365, 'height': 216}]}, {'index': '00010', 'objects': [{'class': 'bear', 'x': 98, 'y': 212, 'width': 330, 'height': 211}]}, {'index': '00051', 'objects': [{'class': 'bear', 'x': 105, 'y': 231, 'width': 346, 'height': 230}]}, {'index': '00056', 'objects': [{'class': 'bear', 'x': 107, 'y': 204, 'width': 333, 'height': 232}]}, {'index': '00040', 'objects': [{'class': 'bear', 'x': 108, 'y': 231, 'width': 356, 'height': 236}]}, {'index': '00050', 'objects': [{'class': 'bear', 'x': 104, 'y': 234, 'width': 350, 'height': 228}]}, {'index': '00055', 'objects': [{'class': 'bear', 'x': 101, 'y': 214, 'width': 347, 'height': 225}]}, {'index': '00076', 'objects': [{'class': 'bear', 'x': 85, 'y': 165, 'width': 354, 'height': 214}]}, {'index': '00080', 'objects': [{'class': 'bear', 'x': 76, 'y': 160, 'width': 364, 'height': 231}]}, {'index': '00077', 'objects': [{'class': 'bear', 'x': 82, 'y': 164, 'width': 357, 'height': 218}]}, {'index': '00075', 'objects': [{'class': 'bear', 'x': 85, 'y': 165, 'width': 356, 'height': 213}]}, {'index': '00053', 'objects': [{'class': 'bear', 'x': 107, 'y': 224, 'width': 343, 'height': 227}]}, {'index': '00073', 'objects': [{'class': 'bear', 'x': 87, 'y': 169, 'width': 351, 'height': 223}]}, {'index': '00016', 'objects': [{'class': 'bear', 'x': 101, 'y': 214, 'width': 343, 'height': 213}]}, {'index': '00035', 'objects': [{'class': 'bear', 'x': 104, 'y': 227, 'width': 383, 'height': 230}]}, {'index': '00047', 'objects': [{'class': 'bear', 'x': 104, 'y': 234, 'width': 351, 'height': 233}]}, {'index': '00020', 'objects': [{'class': 'bear', 'x': 105, 'y': 218, 'width': 355, 'height': 208}]}, {'index': '00009', 'objects': [{'class': 'bear', 'x': 99, 'y': 211, 'width': 323, 'height': 214}]}, {'index': '00058', 'objects': [{'class': 'bear', 'x': 99, 'y': 200, 'width': 342, 'height': 224}]}, {'index': '00071', 'objects': [{'class': 'bear', 'x': 87, 'y': 173, 'width': 353, 'height': 221}]}, {'index': '00061', 'objects': [{'class': 'bear', 'x': 99, 'y': 194, 'width': 342, 'height': 222}]}, {'index': '00006', 'objects': [{'class': 'bear', 'x': 91, 'y': 212, 'width': 336, 'height': 212}]}, {'index': '00034', 'objects': [{'class': 'bear', 'x': 105, 'y': 226, 'width': 382, 'height': 234}]}, {'index': '00008', 'objects': [{'class': 'bear', 'x': 96, 'y': 212, 'width': 326, 'height': 208}]}, {'index': '00057', 'objects': [{'class': 'bear', 'x': 103, 'y': 203, 'width': 338, 'height': 227}]}]}\n"
          ],
          "name": "stdout"
        }
      ]
    },
    {
      "cell_type": "code",
      "metadata": {
        "id": "c8mSIHeNzTpV",
        "colab_type": "code",
        "colab": {
          "base_uri": "https://localhost:8080/",
          "height": 150
        },
        "outputId": "8b5d03c9-6844-4ade-cfc1-573a1cf6824c"
      },
      "source": [
        "!unzip bearc.zip"
      ],
      "execution_count": 5,
      "outputs": [
        {
          "output_type": "stream",
          "text": [
            "Archive:  bearc.zip\n",
            "   creating: bearc/\n",
            " extracting: bearc/00000.jpg         \n",
            " extracting: bearc/00001.jpg         \n",
            " extracting: bearc/00002.jpg         \n",
            " extracting: bearc/00003.jpg         \n",
            " extracting: bearc/00004.jpg         \n",
            " extracting: bearc/00005.jpg         \n"
          ],
          "name": "stdout"
        }
      ]
    }
  ]
}