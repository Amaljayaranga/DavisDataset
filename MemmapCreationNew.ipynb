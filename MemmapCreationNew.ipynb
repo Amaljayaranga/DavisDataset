{
  "nbformat": 4,
  "nbformat_minor": 0,
  "metadata": {
    "colab": {
      "name": "MemmapCreationNew.ipynb",
      "provenance": [],
      "authorship_tag": "ABX9TyNdH04+i+rlD61uCrsfSt8g",
      "include_colab_link": true
    },
    "kernelspec": {
      "name": "python3",
      "display_name": "Python 3"
    }
  },
  "cells": [
    {
      "cell_type": "markdown",
      "metadata": {
        "id": "view-in-github",
        "colab_type": "text"
      },
      "source": [
        "<a href=\"https://colab.research.google.com/github/Amaljayaranga/DavisDataset/blob/master/MemmapCreationNew.ipynb\" target=\"_parent\"><img src=\"https://colab.research.google.com/assets/colab-badge.svg\" alt=\"Open In Colab\"/></a>"
      ]
    },
    {
      "cell_type": "code",
      "metadata": {
        "id": "5uM77IhzA5nM",
        "colab_type": "code",
        "colab": {}
      },
      "source": [
        "!unzip 'dogs-jump.zip'"
      ],
      "execution_count": 0,
      "outputs": []
    },
    {
      "cell_type": "code",
      "metadata": {
        "id": "NLIM1KoYBDL8",
        "colab_type": "code",
        "colab": {}
      },
      "source": [
        "import cv2\n",
        "import os\n",
        "import numpy as np\n",
        "\n",
        "\n",
        "path = './dogs-jump/'\n",
        "memmaps = []\n",
        "\n",
        "\n",
        "for filename in os.listdir(path):\n",
        "    memmap_filename = filename.split('.')[0]+'.mmap'\n",
        "    memmap_filename = path+'memmap/'+memmap_filename\n",
        "    os.makedirs(os.path.dirname(memmap_filename), exist_ok=True)\n",
        "\n",
        "    im = cv2.imread(path+filename)\n",
        "    if not (im is None):\n",
        "      dtype = im.dtype\n",
        "      shape = im.shape\n",
        "      fp = np.memmap(memmap_filename, dtype=dtype, mode='w+', shape=shape)\n",
        "      fp[:] = im[:]\n",
        "      memmaps.append(fp)\n",
        "\n",
        "complete_memmap = path + 'memmap/'+'all.mmap'\n",
        "\n",
        "os.makedirs(os.path.dirname(path + 'memmap'), exist_ok=True)\n",
        "complete_shape = (len(memmaps), shape[0], shape[1], shape[2])\n",
        "    # print(\"Complete shape \",complete_shape) #(82, 480, 854, 3)\n",
        "    # complete_shape=(82,480,854,3)\n",
        "    # print(complete_shape)\n",
        "fpc = np.memmap(complete_memmap, dtype=dtype, mode='w+', shape=complete_shape)\n",
        "fpc[:] = memmaps[:]"
      ],
      "execution_count": 0,
      "outputs": []
    }
  ]
}