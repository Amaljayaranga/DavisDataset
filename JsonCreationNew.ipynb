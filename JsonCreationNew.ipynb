{
  "nbformat": 4,
  "nbformat_minor": 0,
  "metadata": {
    "colab": {
      "name": "JsonCreationNew.ipynb",
      "provenance": [],
      "toc_visible": true,
      "authorship_tag": "ABX9TyMxPKe1JqOMS626qcRhva9V",
      "include_colab_link": true
    },
    "kernelspec": {
      "name": "python3",
      "display_name": "Python 3"
    }
  },
  "cells": [
    {
      "cell_type": "markdown",
      "metadata": {
        "id": "view-in-github",
        "colab_type": "text"
      },
      "source": [
        "<a href=\"https://colab.research.google.com/github/Amaljayaranga/DavisDataset/blob/master/JsonCreationNew.ipynb\" target=\"_parent\"><img src=\"https://colab.research.google.com/assets/colab-badge.svg\" alt=\"Open In Colab\"/></a>"
      ]
    },
    {
      "cell_type": "code",
      "metadata": {
        "id": "CqmK1p09oBJ0",
        "colab_type": "code",
        "colab": {}
      },
      "source": [
        "!unzip 'dogs-jump.zip'"
      ],
      "execution_count": 0,
      "outputs": []
    },
    {
      "cell_type": "code",
      "metadata": {
        "id": "wqzxF18en35z",
        "colab_type": "code",
        "colab": {
          "base_uri": "https://localhost:8080/",
          "height": 53
        },
        "outputId": "deb64718-6cfa-4a42-a18e-7727ea4360e3"
      },
      "source": [
        "import torchvision\n",
        "from PIL import Image\n",
        "import torchvision.transforms as T\n",
        "import cv2\n",
        "import matplotlib.pyplot as plt\n",
        "import numpy as np\n",
        "import os\n",
        "import json\n",
        "\n",
        "model = torchvision.models.detection.fasterrcnn_resnet50_fpn(pretrained=True)\n",
        "model.eval()\n",
        "\n",
        "COCO_INSTANCE_CATEGORY_NAMES = [\n",
        "    '__background__', 'person', 'bicycle', 'car', 'motorcycle', 'airplane', 'bus',\n",
        "    'train', 'truck', 'boat', 'traffic light', 'fire hydrant', 'N/A', 'stop sign',\n",
        "    'parking meter', 'bench', 'bird', 'cat', 'dog', 'horse', 'sheep', 'cow',\n",
        "    'elephant', 'bear', 'zebra', 'giraffe', 'N/A', 'backpack', 'umbrella', 'N/A', 'N/A',\n",
        "    'handbag', 'tie', 'suitcase', 'frisbee', 'skis', 'snowboard', 'sports ball',\n",
        "    'kite', 'baseball bat', 'baseball glove', 'skateboard', 'surfboard', 'tennis racket',\n",
        "    'bottle', 'N/A', 'wine glass', 'cup', 'fork', 'knife', 'spoon', 'bowl',\n",
        "    'banana', 'apple', 'sandwich', 'orange', 'broccoli', 'carrot', 'hot dog', 'pizza',\n",
        "    'donut', 'cake', 'chair', 'couch', 'potted plant', 'bed', 'N/A', 'dining table',\n",
        "    'N/A', 'N/A', 'toilet', 'N/A', 'tv', 'laptop', 'mouse', 'remote', 'keyboard', 'cell phone',\n",
        "    'microwave', 'oven', 'toaster', 'sink', 'refrigerator', 'N/A', 'book',\n",
        "    'clock', 'vase', 'scissors', 'teddy bear', 'hair drier', 'toothbrush'\n",
        "]\n",
        "\n",
        "def get_prediction(img_path, threshold):\n",
        "    img = Image.open(img_path)\n",
        "    transform = T.Compose([T.ToTensor()])\n",
        "    img = transform(img)\n",
        "    pred = model([img])\n",
        "    pred_class = [COCO_INSTANCE_CATEGORY_NAMES[i] for i in list(pred[0]['labels'].numpy())]\n",
        "    pred_boxes = [[(i[0], i[1]), (i[2], i[3])] for i in list(pred[0]['boxes'].detach().numpy())]\n",
        "    pred_score = list(pred[0]['scores'].detach().numpy())\n",
        "    pred_t = [pred_score.index(x) for x in pred_score if x > threshold][-1]\n",
        "    pred_boxes = pred_boxes[:pred_t + 1]\n",
        "    pred_class = pred_class[:pred_t + 1]\n",
        "    return pred_boxes, pred_class\n",
        "\n",
        "def object_detection_api(img_path, threshold=0.5, rect_th=3, text_size=3, text_th=3):\n",
        "  boxes, pred_cls = get_prediction(img_path, threshold)\n",
        "  img = cv2.imread(img_path)\n",
        "  img = cv2.cvtColor(img, cv2.COLOR_BGR2RGB)\n",
        "  for i in range(len(boxes)):\n",
        "    cv2.rectangle(img, boxes[i][0], boxes[i][1],color=(0, 255, 0), thickness=rect_th)\n",
        "    cv2.putText(img,pred_cls[i], boxes[i][0], cv2.FONT_HERSHEY_SIMPLEX, text_size, (0,255,0),thickness=text_th)\n",
        "  plt.figure(figsize=(20,30))\n",
        "  plt.imshow(img)\n",
        "  plt.xticks([])\n",
        "  plt.yticks([])\n",
        "  plt.show()\n",
        "\n",
        "#object_detection_api('./bird.jpg', threshold=0.5)\n",
        "#boxes, pred_cls = get_prediction('./2.jpg', threshold=0.6)\n",
        "#print(pred_cls)\n",
        "#print(boxes)\n",
        "\n",
        "img_data = {}\n",
        "img_data['imgs'] = []\n",
        "path = './dogs-jump/'\n",
        "\n",
        "images = os.listdir(path)\n",
        "for image in images:\n",
        "    boxes, pred_cls = get_prediction(path+image, threshold=0.6)\n",
        "    np_boxes = np.array(boxes)\n",
        "    np_classes = np.array(pred_cls)\n",
        "    img_object = []\n",
        "\n",
        "    for class_, box_ in zip(np_classes, np_boxes):\n",
        "      object = {}\n",
        "      object[\"class\"] = class_\n",
        "      object[\"x\"] = int(box_[0][0])\n",
        "      object[\"y\"] = int(box_[0][1])\n",
        "      object[\"width\"] = int(box_[1][0] - box_[0][0])\n",
        "      object[\"height\"] = int(box_[1][1] - box_[0][1])\n",
        "      img_object.append(object)\n",
        "\n",
        "    single_image = {}\n",
        "    single_image[\"index\"] = image.split('.')[0]\n",
        "    single_image[\"objects\"] = img_object\n",
        "    img_data['imgs'].append(single_image)\n",
        "\n",
        "print(img_data)\n",
        "with open('datajson-d.txt', 'w') as outfile:\n",
        "    json.dump(img_data, outfile)\n"
      ],
      "execution_count": 4,
      "outputs": [
        {
          "output_type": "stream",
          "text": [
            "{'imgs': [{'index': '00049', 'objects': [{'class': 'dog', 'x': 319, 'y': 270, 'width': 168, 'height': 116}, {'class': 'person', 'x': 368, 'y': 160, 'width': 75, 'height': 138}, {'class': 'dog', 'x': 774, 'y': 172, 'width': 76, 'height': 249}]}, {'index': '00064', 'objects': [{'class': 'person', 'x': 339, 'y': 162, 'width': 82, 'height': 221}, {'class': 'dog', 'x': 718, 'y': 184, 'width': 132, 'height': 236}, {'class': 'cow', 'x': 483, 'y': 334, 'width': 54, 'height': 63}]}, {'index': '00003', 'objects': [{'class': 'person', 'x': 361, 'y': 129, 'width': 86, 'height': 230}, {'class': 'dog', 'x': 448, 'y': 230, 'width': 107, 'height': 146}, {'class': 'dog', 'x': 392, 'y': 264, 'width': 50, 'height': 100}]}, {'index': '00055', 'objects': [{'class': 'person', 'x': 356, 'y': 163, 'width': 100, 'height': 216}, {'class': 'dog', 'x': 459, 'y': 287, 'width': 63, 'height': 105}, {'class': 'dog', 'x': 715, 'y': 187, 'width': 136, 'height': 231}]}, {'index': '00009', 'objects': [{'class': 'dog', 'x': 328, 'y': 138, 'width': 137, 'height': 241}]}, {'index': '00027', 'objects': [{'class': 'person', 'x': 350, 'y': 152, 'width': 127, 'height': 228}, {'class': 'dog', 'x': 14, 'y': 220, 'width': 143, 'height': 144}, {'class': 'dog', 'x': 430, 'y': 275, 'width': 60, 'height': 111}]}, {'index': '00017', 'objects': [{'class': 'dog', 'x': 12, 'y': 211, 'width': 312, 'height': 167}, {'class': 'person', 'x': 348, 'y': 148, 'width': 101, 'height': 232}, {'class': 'dog', 'x': 412, 'y': 228, 'width': 57, 'height': 150}]}, {'index': '00004', 'objects': [{'class': 'person', 'x': 357, 'y': 130, 'width': 90, 'height': 235}, {'class': 'dog', 'x': 438, 'y': 191, 'width': 105, 'height': 189}, {'class': 'bird', 'x': 389, 'y': 269, 'width': 52, 'height': 99}]}, {'index': '00024', 'objects': [{'class': 'person', 'x': 352, 'y': 151, 'width': 102, 'height': 232}, {'class': 'dog', 'x': 2, 'y': 193, 'width': 187, 'height': 168}, {'class': 'dog', 'x': 421, 'y': 273, 'width': 80, 'height': 117}]}, {'index': '00016', 'objects': [{'class': 'dog', 'x': 41, 'y': 207, 'width': 307, 'height': 173}, {'class': 'person', 'x': 351, 'y': 148, 'width': 92, 'height': 226}, {'class': 'dog', 'x': 409, 'y': 235, 'width': 60, 'height': 146}]}, {'index': '00046', 'objects': [{'class': 'person', 'x': 375, 'y': 158, 'width': 72, 'height': 138}, {'class': 'dog', 'x': 270, 'y': 252, 'width': 196, 'height': 132}, {'class': 'dog', 'x': 707, 'y': 234, 'width': 145, 'height': 178}]}, {'index': '00012', 'objects': [{'class': 'dog', 'x': 207, 'y': 219, 'width': 210, 'height': 163}, {'class': 'person', 'x': 373, 'y': 142, 'width': 66, 'height': 116}, {'class': 'dog', 'x': 405, 'y': 271, 'width': 56, 'height': 111}, {'class': 'person', 'x': 373, 'y': 150, 'width': 64, 'height': 207}]}, {'index': '00052', 'objects': [{'class': 'person', 'x': 355, 'y': 162, 'width': 116, 'height': 221}, {'class': 'dog', 'x': 773, 'y': 166, 'width': 77, 'height': 260}, {'class': 'dog', 'x': 408, 'y': 264, 'width': 109, 'height': 124}]}, {'index': '00040', 'objects': [{'class': 'person', 'x': 364, 'y': 151, 'width': 86, 'height': 229}, {'class': 'dog', 'x': 155, 'y': 271, 'width': 218, 'height': 107}, {'class': 'dog', 'x': 608, 'y': 275, 'width': 240, 'height': 143}]}, {'index': '00031', 'objects': [{'class': 'person', 'x': 355, 'y': 147, 'width': 125, 'height': 239}, {'class': 'dog', 'x': 35, 'y': 199, 'width': 174, 'height': 172}, {'class': 'bird', 'x': 436, 'y': 225, 'width': 107, 'height': 166}]}, {'index': '00062', 'objects': [{'class': 'person', 'x': 345, 'y': 164, 'width': 80, 'height': 217}, {'class': 'dog', 'x': 486, 'y': 314, 'width': 47, 'height': 80}, {'class': 'dog', 'x': 760, 'y': 181, 'width': 91, 'height': 238}, {'class': 'handbag', 'x': 358, 'y': 192, 'width': 32, 'height': 58}]}, {'index': '00050', 'objects': [{'class': 'dog', 'x': 355, 'y': 270, 'width': 134, 'height': 113}, {'class': 'person', 'x': 368, 'y': 161, 'width': 80, 'height': 134}, {'class': 'dog', 'x': 779, 'y': 175, 'width': 72, 'height': 242}]}, {'index': '00057', 'objects': [{'class': 'person', 'x': 354, 'y': 165, 'width': 87, 'height': 210}, {'class': 'dog', 'x': 481, 'y': 273, 'width': 64, 'height': 119}, {'class': 'dog', 'x': 727, 'y': 181, 'width': 124, 'height': 240}]}, {'index': '00028', 'objects': [{'class': 'person', 'x': 355, 'y': 147, 'width': 135, 'height': 239}, {'class': 'dog', 'x': 14, 'y': 213, 'width': 154, 'height': 152}, {'class': 'dog', 'x': 430, 'y': 278, 'width': 65, 'height': 109}]}, {'index': '00053', 'objects': [{'class': 'person', 'x': 355, 'y': 162, 'width': 127, 'height': 221}, {'class': 'dog', 'x': 761, 'y': 173, 'width': 89, 'height': 250}, {'class': 'dog', 'x': 423, 'y': 277, 'width': 93, 'height': 112}]}, {'index': '00022', 'objects': [{'class': 'person', 'x': 350, 'y': 150, 'width': 90, 'height': 229}, {'class': 'dog', 'x': 0, 'y': 187, 'width': 219, 'height': 185}, {'class': 'dog', 'x': 420, 'y': 249, 'width': 70, 'height': 136}]}, {'index': '00002', 'objects': [{'class': 'dog', 'x': 453, 'y': 253, 'width': 107, 'height': 124}, {'class': 'person', 'x': 357, 'y': 127, 'width': 96, 'height': 238}, {'class': 'dog', 'x': 387, 'y': 264, 'width': 61, 'height': 100}]}, {'index': '00063', 'objects': [{'class': 'person', 'x': 342, 'y': 163, 'width': 82, 'height': 220}, {'class': 'dog', 'x': 742, 'y': 177, 'width': 108, 'height': 243}, {'class': 'dog', 'x': 486, 'y': 299, 'width': 47, 'height': 99}]}, {'index': '00005', 'objects': [{'class': 'person', 'x': 362, 'y': 132, 'width': 79, 'height': 224}, {'class': 'dog', 'x': 424, 'y': 157, 'width': 112, 'height': 215}, {'class': 'dog', 'x': 390, 'y': 267, 'width': 48, 'height': 101}]}, {'index': '00019', 'objects': [{'class': 'dog', 'x': 4, 'y': 204, 'width': 272, 'height': 173}, {'class': 'person', 'x': 348, 'y': 150, 'width': 97, 'height': 228}, {'class': 'dog', 'x': 419, 'y': 224, 'width': 52, 'height': 159}]}, {'index': '00029', 'objects': [{'class': 'person', 'x': 355, 'y': 146, 'width': 136, 'height': 238}, {'class': 'dog', 'x': 30, 'y': 214, 'width': 157, 'height': 152}, {'class': 'dog', 'x': 434, 'y': 267, 'width': 70, 'height': 123}]}, {'index': '00037', 'objects': [{'class': 'dog', 'x': 469, 'y': 243, 'width': 260, 'height': 166}, {'class': 'person', 'x': 357, 'y': 148, 'width': 93, 'height': 233}, {'class': 'dog', 'x': 97, 'y': 226, 'width': 232, 'height': 148}]}, {'index': '00047', 'objects': [{'class': 'person', 'x': 374, 'y': 158, 'width': 71, 'height': 141}, {'class': 'dog', 'x': 726, 'y': 196, 'width': 125, 'height': 223}, {'class': 'dog', 'x': 297, 'y': 263, 'width': 169, 'height': 118}]}, {'index': '00058', 'objects': [{'class': 'person', 'x': 351, 'y': 164, 'width': 83, 'height': 215}, {'class': 'dog', 'x': 482, 'y': 270, 'width': 70, 'height': 123}, {'class': 'dog', 'x': 735, 'y': 186, 'width': 117, 'height': 236}, {'class': 'handbag', 'x': 362, 'y': 192, 'width': 40, 'height': 59}, {'class': 'handbag', 'x': 373, 'y': 194, 'width': 25, 'height': 42}]}, {'index': '00007', 'objects': [{'class': 'dog', 'x': 370, 'y': 131, 'width': 134, 'height': 243}, {'class': 'dog', 'x': 388, 'y': 275, 'width': 56, 'height': 97}]}, {'index': '00054', 'objects': [{'class': 'person', 'x': 357, 'y': 162, 'width': 109, 'height': 220}, {'class': 'dog', 'x': 743, 'y': 176, 'width': 107, 'height': 244}, {'class': 'dog', 'x': 444, 'y': 275, 'width': 76, 'height': 116}]}, {'index': '00065', 'objects': [{'class': 'person', 'x': 337, 'y': 162, 'width': 84, 'height': 221}, {'class': 'dog', 'x': 485, 'y': 341, 'width': 50, 'height': 54}, {'class': 'dog', 'x': 718, 'y': 184, 'width': 130, 'height': 238}]}, {'index': '00034', 'objects': [{'class': 'person', 'x': 357, 'y': 146, 'width': 99, 'height': 235}, {'class': 'dog', 'x': 74, 'y': 240, 'width': 196, 'height': 131}, {'class': 'dog', 'x': 451, 'y': 189, 'width': 168, 'height': 197}]}, {'index': '00013', 'objects': [{'class': 'person', 'x': 376, 'y': 145, 'width': 66, 'height': 193}, {'class': 'dog', 'x': 155, 'y': 204, 'width': 251, 'height': 180}, {'class': 'dog', 'x': 403, 'y': 261, 'width': 60, 'height': 121}]}, {'index': '00010', 'objects': [{'class': 'dog', 'x': 303, 'y': 165, 'width': 151, 'height': 211}, {'class': 'person', 'x': 384, 'y': 137, 'width': 56, 'height': 103}]}, {'index': '00043', 'objects': [{'class': 'dog', 'x': 215, 'y': 249, 'width': 197, 'height': 125}, {'class': 'person', 'x': 361, 'y': 152, 'width': 87, 'height': 222}, {'class': 'dog', 'x': 674, 'y': 285, 'width': 178, 'height': 134}, {'class': 'cow', 'x': 679, 'y': 287, 'width': 171, 'height': 133}]}, {'index': '00021', 'objects': [{'class': 'person', 'x': 351, 'y': 150, 'width': 90, 'height': 230}, {'class': 'dog', 'x': 422, 'y': 240, 'width': 56, 'height': 143}, {'class': 'dog', 'x': 1, 'y': 174, 'width': 222, 'height': 198}]}, {'index': '00039', 'objects': [{'class': 'dog', 'x': 145, 'y': 274, 'width': 215, 'height': 103}, {'class': 'person', 'x': 362, 'y': 148, 'width': 90, 'height': 233}, {'class': 'dog', 'x': 550, 'y': 282, 'width': 296, 'height': 138}]}, {'index': '00041', 'objects': [{'class': 'dog', 'x': 167, 'y': 267, 'width': 221, 'height': 108}, {'class': 'person', 'x': 366, 'y': 153, 'width': 84, 'height': 226}, {'class': 'dog', 'x': 649, 'y': 245, 'width': 202, 'height': 179}]}, {'index': '00042', 'objects': [{'class': 'person', 'x': 366, 'y': 153, 'width': 84, 'height': 226}, {'class': 'dog', 'x': 192, 'y': 252, 'width': 211, 'height': 126}, {'class': 'dog', 'x': 670, 'y': 267, 'width': 181, 'height': 159}]}, {'index': '00061', 'objects': [{'class': 'person', 'x': 347, 'y': 164, 'width': 78, 'height': 216}, {'class': 'dog', 'x': 767, 'y': 163, 'width': 85, 'height': 261}, {'class': 'dog', 'x': 486, 'y': 310, 'width': 50, 'height': 84}, {'class': 'handbag', 'x': 360, 'y': 193, 'width': 34, 'height': 57}]}, {'index': '00038', 'objects': [{'class': 'person', 'x': 360, 'y': 148, 'width': 92, 'height': 233}, {'class': 'dog', 'x': 130, 'y': 258, 'width': 213, 'height': 112}, {'class': 'dog', 'x': 511, 'y': 277, 'width': 275, 'height': 143}]}, {'index': '00023', 'objects': [{'class': 'person', 'x': 352, 'y': 152, 'width': 92, 'height': 229}, {'class': 'dog', 'x': 0, 'y': 177, 'width': 202, 'height': 191}, {'class': 'dog', 'x': 419, 'y': 264, 'width': 78, 'height': 124}]}, {'index': '00008', 'objects': [{'class': 'dog', 'x': 358, 'y': 124, 'width': 122, 'height': 255}]}, {'index': '00020', 'objects': [{'class': 'person', 'x': 352, 'y': 149, 'width': 94, 'height': 230}, {'class': 'dog', 'x': 0, 'y': 187, 'width': 244, 'height': 189}, {'class': 'dog', 'x': 422, 'y': 233, 'width': 55, 'height': 149}]}, {'index': '00051', 'objects': [{'class': 'dog', 'x': 367, 'y': 250, 'width': 136, 'height': 134}, {'class': 'person', 'x': 355, 'y': 164, 'width': 104, 'height': 217}, {'class': 'dog', 'x': 780, 'y': 170, 'width': 71, 'height': 255}]}, {'index': '00018', 'objects': [{'class': 'dog', 'x': 0, 'y': 216, 'width': 308, 'height': 162}, {'class': 'person', 'x': 346, 'y': 149, 'width': 104, 'height': 230}, {'class': 'dog', 'x': 411, 'y': 224, 'width': 60, 'height': 164}]}, {'index': '00044', 'objects': [{'class': 'dog', 'x': 235, 'y': 244, 'width': 199, 'height': 135}, {'class': 'person', 'x': 376, 'y': 158, 'width': 73, 'height': 158}, {'class': 'dog', 'x': 705, 'y': 269, 'width': 148, 'height': 154}, {'class': 'cow', 'x': 705, 'y': 267, 'width': 146, 'height': 157}]}, {'index': '00059', 'objects': [{'class': 'person', 'x': 349, 'y': 164, 'width': 80, 'height': 216}, {'class': 'dog', 'x': 750, 'y': 173, 'width': 100, 'height': 252}, {'class': 'dog', 'x': 478, 'y': 287, 'width': 66, 'height': 108}, {'class': 'handbag', 'x': 362, 'y': 193, 'width': 37, 'height': 57}]}, {'index': '00015', 'objects': [{'class': 'dog', 'x': 84, 'y': 201, 'width': 275, 'height': 179}, {'class': 'person', 'x': 353, 'y': 146, 'width': 89, 'height': 231}, {'class': 'dog', 'x': 409, 'y': 243, 'width': 61, 'height': 135}]}, {'index': '00000', 'objects': [{'class': 'person', 'x': 365, 'y': 126, 'width': 90, 'height': 234}, {'class': 'dog', 'x': 451, 'y': 248, 'width': 99, 'height': 129}, {'class': 'dog', 'x': 391, 'y': 263, 'width': 52, 'height': 100}]}, {'index': '00032', 'objects': [{'class': 'person', 'x': 356, 'y': 147, 'width': 113, 'height': 236}, {'class': 'dog', 'x': 40, 'y': 196, 'width': 192, 'height': 175}, {'class': 'dog', 'x': 442, 'y': 204, 'width': 127, 'height': 187}]}, {'index': '00035', 'objects': [{'class': 'dog', 'x': 75, 'y': 214, 'width': 211, 'height': 158}, {'class': 'dog', 'x': 458, 'y': 204, 'width': 203, 'height': 186}, {'class': 'person', 'x': 357, 'y': 146, 'width': 94, 'height': 235}]}, {'index': '00033', 'objects': [{'class': 'person', 'x': 356, 'y': 146, 'width': 108, 'height': 236}, {'class': 'dog', 'x': 66, 'y': 229, 'width': 184, 'height': 144}, {'class': 'dog', 'x': 438, 'y': 192, 'width': 161, 'height': 200}]}, {'index': '00030', 'objects': [{'class': 'person', 'x': 353, 'y': 146, 'width': 136, 'height': 238}, {'class': 'bird', 'x': 439, 'y': 244, 'width': 81, 'height': 143}, {'class': 'dog', 'x': 24, 'y': 202, 'width': 174, 'height': 170}]}, {'index': '00001', 'objects': [{'class': 'person', 'x': 356, 'y': 126, 'width': 106, 'height': 242}, {'class': 'dog', 'x': 441, 'y': 252, 'width': 109, 'height': 123}, {'class': 'dog', 'x': 387, 'y': 264, 'width': 60, 'height': 103}]}, {'index': '00045', 'objects': [{'class': 'dog', 'x': 249, 'y': 244, 'width': 202, 'height': 137}, {'class': 'person', 'x': 374, 'y': 155, 'width': 74, 'height': 150}, {'class': 'dog', 'x': 699, 'y': 253, 'width': 151, 'height': 172}]}, {'index': '00026', 'objects': [{'class': 'person', 'x': 354, 'y': 150, 'width': 115, 'height': 236}, {'class': 'dog', 'x': 1, 'y': 226, 'width': 160, 'height': 142}, {'class': 'dog', 'x': 423, 'y': 273, 'width': 62, 'height': 117}, {'class': 'bird', 'x': 423, 'y': 274, 'width': 61, 'height': 119}]}, {'index': '00011', 'objects': [{'class': 'dog', 'x': 256, 'y': 178, 'width': 196, 'height': 204}, {'class': 'person', 'x': 374, 'y': 141, 'width': 65, 'height': 106}, {'class': 'person', 'x': 372, 'y': 147, 'width': 75, 'height': 220}]}, {'index': '00056', 'objects': [{'class': 'person', 'x': 355, 'y': 163, 'width': 95, 'height': 217}, {'class': 'dog', 'x': 715, 'y': 185, 'width': 133, 'height': 233}, {'class': 'dog', 'x': 473, 'y': 268, 'width': 51, 'height': 123}]}, {'index': '00014', 'objects': [{'class': 'person', 'x': 369, 'y': 147, 'width': 72, 'height': 221}, {'class': 'dog', 'x': 126, 'y': 182, 'width': 254, 'height': 195}, {'class': 'dog', 'x': 408, 'y': 253, 'width': 60, 'height': 126}]}, {'index': '00048', 'objects': [{'class': 'person', 'x': 370, 'y': 158, 'width': 74, 'height': 140}, {'class': 'dog', 'x': 314, 'y': 263, 'width': 166, 'height': 123}, {'class': 'dog', 'x': 742, 'y': 184, 'width': 111, 'height': 228}]}, {'index': '00025', 'objects': [{'class': 'person', 'x': 353, 'y': 151, 'width': 105, 'height': 231}, {'class': 'dog', 'x': 425, 'y': 275, 'width': 59, 'height': 113}, {'class': 'dog', 'x': 1, 'y': 207, 'width': 173, 'height': 156}]}, {'index': '00036', 'objects': [{'class': 'dog', 'x': 76, 'y': 225, 'width': 234, 'height': 147}, {'class': 'person', 'x': 356, 'y': 147, 'width': 94, 'height': 234}, {'class': 'dog', 'x': 454, 'y': 224, 'width': 236, 'height': 176}]}, {'index': '00006', 'objects': [{'class': 'dog', 'x': 402, 'y': 145, 'width': 118, 'height': 231}, {'class': 'person', 'x': 347, 'y': 134, 'width': 83, 'height': 232}, {'class': 'bird', 'x': 822, 'y': 163, 'width': 11, 'height': 4}]}, {'index': '00060', 'objects': [{'class': 'person', 'x': 349, 'y': 164, 'width': 79, 'height': 214}, {'class': 'dog', 'x': 484, 'y': 297, 'width': 53, 'height': 99}, {'class': 'dog', 'x': 766, 'y': 162, 'width': 84, 'height': 263}, {'class': 'handbag', 'x': 361, 'y': 193, 'width': 34, 'height': 56}]}]}\n"
          ],
          "name": "stdout"
        }
      ]
    }
  ]
}